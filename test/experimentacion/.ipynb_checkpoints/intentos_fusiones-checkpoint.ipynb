{
 "cells": [
  {
   "cell_type": "code",
   "execution_count": 11,
   "metadata": {},
   "outputs": [],
   "source": [
    "import numpy as np\n",
    "import pandas as pd\n",
    "import seaborn as sns\n",
    "import matplotlib.pyplot as plt"
   ]
  },
  {
   "cell_type": "code",
   "execution_count": 12,
   "metadata": {},
   "outputs": [
    {
     "name": "stdout",
     "output_type": "stream",
     "text": [
      "     instancia     n     grafo  threads  fusiones\n",
      "0            0   100     arbol        1         0\n",
      "1            1   100     arbol        2        32\n",
      "2            2   100     arbol        4     18511\n",
      "3            3   100     arbol        1         0\n",
      "4            4   100     arbol        2         8\n",
      "5            5   100     arbol        4     14540\n",
      "6            6   100     arbol        1         0\n",
      "7            7   100     arbol        2        30\n",
      "8            8   100     arbol        4     10279\n",
      "9            9   100     arbol        1         0\n",
      "10          10   100     arbol        2        31\n",
      "11          11   100     arbol        4      6644\n",
      "12          12   100     arbol        1         0\n",
      "13          13   100     arbol        2        41\n",
      "14          14   100     arbol        4      2239\n",
      "15          15   100     arbol        1         0\n",
      "16          16   100     arbol        2        24\n",
      "17          17   100     arbol        4     10224\n",
      "18          18   100     arbol        1         0\n",
      "19          19   100     arbol        2        26\n",
      "20          20   100     arbol        4      1111\n",
      "21          21   100     arbol        1         0\n",
      "22          22   100     arbol        2        25\n",
      "23          23   100     arbol        4     12115\n",
      "24          24   100     arbol        1         0\n",
      "25          25   100     arbol        2        26\n",
      "26          26   100     arbol        4      7416\n",
      "27          27   100     arbol        1         0\n",
      "28          28   100     arbol        2        27\n",
      "29          29   100     arbol        4      9727\n",
      "..         ...   ...       ...      ...       ...\n",
      "870        870  1000  completo        1         0\n",
      "871        871  1000  completo        2       167\n",
      "872        872  1000  completo        4   2013812\n",
      "873        873  1000  completo        1         0\n",
      "874        874  1000  completo        2       156\n",
      "875        875  1000  completo        4   2125808\n",
      "876        876  1000  completo        1         0\n",
      "877        877  1000  completo        2       159\n",
      "878        878  1000  completo        4   2339127\n",
      "879        879  1000  completo        1         0\n",
      "880        880  1000  completo        2       154\n",
      "881        881  1000  completo        4   2115543\n",
      "882        882  1000  completo        1         0\n",
      "883        883  1000  completo        2       152\n",
      "884        884  1000  completo        4   2101252\n",
      "885        885  1000  completo        1         0\n",
      "886        886  1000  completo        2       159\n",
      "887        887  1000  completo        4   2122335\n",
      "888        888  1000  completo        1         0\n",
      "889        889  1000  completo        2       154\n",
      "890        890  1000  completo        4   2194896\n",
      "891        891  1000  completo        1         0\n",
      "892        892  1000  completo        2       154\n",
      "893        893  1000  completo        4   2174954\n",
      "894        894  1000  completo        1         0\n",
      "895        895  1000  completo        2       164\n",
      "896        896  1000  completo        4   2197962\n",
      "897        897  1000  completo        1         0\n",
      "898        898  1000  completo        2       156\n",
      "899        899  1000  completo        4   2161161\n",
      "\n",
      "[900 rows x 5 columns]\n"
     ]
    }
   ],
   "source": [
    "fb = pd.read_csv(\"../../intentos_fusiones.csv\")\n",
    "print(fb)"
   ]
  },
  {
   "cell_type": "code",
   "execution_count": 13,
   "metadata": {},
   "outputs": [
    {
     "name": "stdout",
     "output_type": "stream",
     "text": [
      "       n     grafo  threads   fusiones\n",
      "0    100     arbol        1        0.0\n",
      "0    200     arbol        1        0.0\n",
      "0    300     arbol        1        0.0\n",
      "0    400     arbol        1        0.0\n",
      "0    500     arbol        1        0.0\n",
      "0    600     arbol        1        0.0\n",
      "0    700     arbol        1        0.0\n",
      "0    800     arbol        1        0.0\n",
      "0    900     arbol        1        0.0\n",
      "0   1000     arbol        1        0.0\n",
      "0    100     arbol        2       27.0\n",
      "0    200     arbol        2        9.2\n",
      "0    300     arbol        2       17.8\n",
      "0    400     arbol        2       32.9\n",
      "0    500     arbol        2       35.8\n",
      "0    600     arbol        2       28.8\n",
      "0    700     arbol        2       30.3\n",
      "0    800     arbol        2       24.1\n",
      "0    900     arbol        2       37.8\n",
      "0   1000     arbol        2       39.2\n",
      "0    100     arbol        4     9280.6\n",
      "0    200     arbol        4     9150.9\n",
      "0    300     arbol        4    16086.9\n",
      "0    400     arbol        4    62277.4\n",
      "0    500     arbol        4    58578.8\n",
      "0    600     arbol        4    65320.7\n",
      "0    700     arbol        4    98228.8\n",
      "0    800     arbol        4   113866.4\n",
      "0    900     arbol        4   133352.7\n",
      "0   1000     arbol        4   114690.8\n",
      "..   ...       ...      ...        ...\n",
      "0    100  completo        1        0.0\n",
      "0    200  completo        1        0.0\n",
      "0    300  completo        1        0.0\n",
      "0    400  completo        1        0.0\n",
      "0    500  completo        1        0.0\n",
      "0    600  completo        1        0.0\n",
      "0    700  completo        1        0.0\n",
      "0    800  completo        1        0.0\n",
      "0    900  completo        1        0.0\n",
      "0   1000  completo        1        0.0\n",
      "0    100  completo        2       25.3\n",
      "0    200  completo        2       33.3\n",
      "0    300  completo        2       47.1\n",
      "0    400  completo        2       62.5\n",
      "0    500  completo        2       88.6\n",
      "0    600  completo        2      102.3\n",
      "0    700  completo        2      115.3\n",
      "0    800  completo        2      123.0\n",
      "0    900  completo        2      151.2\n",
      "0   1000  completo        2      157.5\n",
      "0    100  completo        4    20906.5\n",
      "0    200  completo        4    94530.3\n",
      "0    300  completo        4   196194.0\n",
      "0    400  completo        4   316417.8\n",
      "0    500  completo        4   464518.9\n",
      "0    600  completo        4   730698.5\n",
      "0    700  completo        4  1011298.0\n",
      "0    800  completo        4  1320906.4\n",
      "0    900  completo        4  1655406.1\n",
      "0   1000  completo        4  2154685.0\n",
      "\n",
      "[90 rows x 4 columns]\n"
     ]
    }
   ],
   "source": [
    "d = {'n': [100], 'grafo': [\"arbol\"], 'threads': [1], 'fusiones': [1.0]}\n",
    "data = pd.DataFrame(data=d)\n",
    "data = data.drop([0])\n",
    "for k in {1, 2, 4}:\n",
    "    for j in range(100,1001,100):\n",
    "        data1 = (((fb.loc[fb['n'] == j]).loc[fb['grafo'] == 'arbol']).loc[fb['threads'] == k]).loc[:, 'fusiones']\n",
    "        data2 = {'n': [j], 'grafo': [\"arbol\"], 'threads': [k], 'fusiones': [data1.mean()]}\n",
    "        data = data.append(pd.DataFrame(data=data2))\n",
    "\n",
    "        \n",
    "for k in {1, 2, 4}:\n",
    "    for j in range(100,1001,100):\n",
    "        data1 = (((fb.loc[fb['n'] == j]).loc[fb['grafo'] == 'ralo']).loc[fb['threads'] == k]).loc[:, 'fusiones']\n",
    "        data2 = {'n': [j], 'grafo': [\"ralo\"], 'threads': [k], 'fusiones': [data1.mean()]}\n",
    "        data = data.append(pd.DataFrame(data=data2))\n",
    "\n",
    "for k in {1, 2, 4}:\n",
    "    for j in range(100,1001,100):\n",
    "        data1 = (((fb.loc[fb['n'] == j]).loc[fb['grafo'] == 'completo']).loc[fb['threads'] == k]).loc[:, 'fusiones']\n",
    "        data2 = {'n': [j], 'grafo': [\"completo\"], 'threads': [k], 'fusiones': [data1.mean()]}\n",
    "        data = data.append(pd.DataFrame(data=data2))\n",
    "print(data)"
   ]
  },
  {
   "cell_type": "code",
   "execution_count": 22,
   "metadata": {},
   "outputs": [
    {
     "data": {
      "image/png": "[encoded data removed]",
      "text/plain": [
       "<Figure size 432x288 with 1 Axes>"
      ]
     },
     "metadata": {
      "needs_background": "light"
     },
     "output_type": "display_data"
    }
   ],
   "source": [
    "#Grafico para comparacion con arboles\n",
    "\n",
    "data2 = data.loc[data['threads'] == 2]\n",
    "data3 = data2.loc[data2['grafo'] == 'arbol']\n",
    "ax1 = sns.lineplot(x=\"n\", y=\"fusiones\", data=data3);\n",
    "\n",
    "data2 = data.loc[data['threads'] == 2]\n",
    "data3 = data2.loc[data2['grafo'] == 'ralo']\n",
    "ax1 = sns.lineplot(x=\"n\", y=\"fusiones\", data=data3);\n",
    "\n",
    "data2 = data.loc[data['threads'] == 2]\n",
    "data3 = data2.loc[data2['grafo'] == 'completo']\n",
    "ax1 = sns.lineplot(x=\"n\", y=\"fusiones\", data=data3);\n",
    "\n",
    "# plt.title(\"Intentos de fusiones según tipo de grafo para 2 threads\");\n",
    "plt.ylabel(\"fusiones\");\n",
    "plt.xlabel(\"n\");\n",
    "ax1.legend([\"Arbol\", \"Ralo\", \"Completo\"]);\n",
    "plt.savefig('intentos_fusiones_2_threads.png')"
   ]
  },
  {
   "cell_type": "code",
   "execution_count": 23,
   "metadata": {},
   "outputs": [
    {
     "data": {
      "image/png": "[encoded data removed]",
      "text/plain": [
       "<Figure size 432x288 with 1 Axes>"
      ]
     },
     "metadata": {
      "needs_background": "light"
     },
     "output_type": "display_data"
    }
   ],
   "source": [
    "#Grafico para comparacion con arboles\n",
    "\n",
    "data2 = data.loc[data['threads'] == 4]\n",
    "data3 = data2.loc[data2['grafo'] == 'arbol']\n",
    "ax1 = sns.lineplot(x=\"n\", y=\"fusiones\", data=data3);\n",
    "\n",
    "data2 = data.loc[data['threads'] == 4]\n",
    "data3 = data2.loc[data2['grafo'] == 'ralo']\n",
    "ax1 = sns.lineplot(x=\"n\", y=\"fusiones\", data=data3);\n",
    "\n",
    "data2 = data.loc[data['threads'] == 4]\n",
    "data3 = data2.loc[data2['grafo'] == 'completo']\n",
    "ax1 = sns.lineplot(x=\"n\", y=\"fusiones\", data=data3);\n",
    "\n",
    "# plt.title(\"Intentos de fusiones según tipo de grafo para 4 threads\");\n",
    "plt.ylabel(\"fusiones\");\n",
    "plt.xlabel(\"n\");\n",
    "ax1.legend([\"Arbol\", \"Ralo\", \"Completo\"]);\n",
    "plt.savefig('intentos_fusiones_4_threads.png')"
   ]
  },
  {
   "cell_type": "code",
   "execution_count": null,
   "metadata": {},
   "outputs": [],
   "source": []
  }
 ],
 "metadata": {
  "kernelspec": {
   "display_name": "Python 3",
   "language": "python",
   "name": "python3"
  },
  "language_info": {
   "codemirror_mode": {
    "name": "ipython",
    "version": 3
   },
   "file_extension": ".py",
   "mimetype": "text/x-python",
   "name": "python",
   "nbconvert_exporter": "python",
   "pygments_lexer": "ipython3",
   "version": "3.7.0"
  }
 },
 "nbformat": 4,
 "nbformat_minor": 2
}

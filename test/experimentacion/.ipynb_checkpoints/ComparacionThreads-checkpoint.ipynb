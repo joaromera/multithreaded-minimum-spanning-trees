{
 "cells": [
  {
   "cell_type": "code",
   "execution_count": 2,
   "metadata": {},
   "outputs": [],
   "source": [
    "import numpy as np\n",
    "import pandas as pd\n",
    "import seaborn as sns\n",
    "import matplotlib.pyplot as plt"
   ]
  },
  {
   "cell_type": "code",
   "execution_count": 4,
   "metadata": {},
   "outputs": [
    {
     "name": "stdout",
     "output_type": "stream",
     "text": [
      "     instancia     grafo  threads     tiempo\n",
      "0            0     arbol        1   14.14010\n",
      "1            1     arbol        2    9.66770\n",
      "2            2     arbol        4    7.97465\n",
      "3            3     arbol        8    7.07242\n",
      "4            4     arbol       16   25.09900\n",
      "5            5     arbol       32   41.68090\n",
      "6            6     arbol        1   11.89800\n",
      "7            7     arbol        2    7.75545\n",
      "8            8     arbol        4    5.37107\n",
      "9            9     arbol        8    7.37378\n",
      "10          10     arbol       16   10.36370\n",
      "11          11     arbol       32   34.64180\n",
      "12          12     arbol        1   11.61010\n",
      "13          13     arbol        2    7.19385\n",
      "14          14     arbol        4    4.80806\n",
      "15          15     arbol        8    5.86486\n",
      "16          16     arbol       16   37.16050\n",
      "17          17     arbol       32   15.16200\n",
      "18          18     arbol        1   11.70610\n",
      "19          19     arbol        2    8.26835\n",
      "20          20     arbol        4    4.85167\n",
      "21          21     arbol        8    6.56024\n",
      "22          22     arbol       16    8.06954\n",
      "23          23     arbol       32   14.78280\n",
      "24          24     arbol        1   11.90430\n",
      "25          25     arbol        2    7.55731\n",
      "26          26     arbol        4    5.58060\n",
      "27          27     arbol        8    6.48520\n",
      "28          28     arbol       16    9.66831\n",
      "29          29     arbol       32   15.94230\n",
      "..         ...       ...      ...        ...\n",
      "150        150  completo        1  252.74700\n",
      "151        151  completo        2  153.73300\n",
      "152        152  completo        4   84.59950\n",
      "153        153  completo        8   63.73350\n",
      "154        154  completo       16   66.05120\n",
      "155        155  completo       32  108.94400\n",
      "156        156  completo        1  252.22200\n",
      "157        157  completo        2  152.17600\n",
      "158        158  completo        4   83.76180\n",
      "159        159  completo        8   64.09050\n",
      "160        160  completo       16   67.72850\n",
      "161        161  completo       32  258.00200\n",
      "162        162  completo        1  253.25700\n",
      "163        163  completo        2  152.14600\n",
      "164        164  completo        4   86.83710\n",
      "165        165  completo        8   65.77520\n",
      "166        166  completo       16   69.01200\n",
      "167        167  completo       32  131.83400\n",
      "168        168  completo        1  255.77600\n",
      "169        169  completo        2  151.73900\n",
      "170        170  completo        4   85.00040\n",
      "171        171  completo        8   64.27230\n",
      "172        172  completo       16   65.24020\n",
      "173        173  completo       32  170.54600\n",
      "174        174  completo        1  259.06400\n",
      "175        175  completo        2  150.81300\n",
      "176        176  completo        4   87.58490\n",
      "177        177  completo        8   67.55250\n",
      "178        178  completo       16   79.01870\n",
      "179        179  completo       32  103.35100\n",
      "\n",
      "[180 rows x 4 columns]\n"
     ]
    }
   ],
   "source": [
    "fb = pd.read_csv(\"ComparacionThreads.csv\")\n",
    "print(fb)"
   ]
  },
  {
   "cell_type": "code",
   "execution_count": 53,
   "metadata": {},
   "outputs": [
    {
     "data": {
      "image/png": "[encoded data removed]",
      "text/plain": [
       "<Figure size 432x288 with 1 Axes>"
      ]
     },
     "metadata": {
      "needs_background": "light"
     },
     "output_type": "display_data"
    }
   ],
   "source": [
    "#Grafico para algoritmo fuerza bruta\n",
    "fb['FB/2^n'] = fb['FB'] / 2**fb['n'];\n",
    "\n",
    "ax1 = sns.lineplot(x=\"instancia\", y=\"FB/2^n\", data=fb);\n",
    "plt.ylim(0.000025,0.000032)\n",
    "plt.ylabel(\"FB(n,w)/2^n\");"
   ]
  },
  {
   "cell_type": "code",
   "execution_count": 54,
   "metadata": {},
   "outputs": [],
   "source": [
    "# Creamos la columna cota que vale 2^n.\n",
    "fb[\"2^n\"] = 2 ** fb[\"n\"]"
   ]
  },
  {
   "cell_type": "code",
   "execution_count": 55,
   "metadata": {},
   "outputs": [
    {
     "name": "stdout",
     "output_type": "stream",
     "text": [
      "El coeficiente de correlación de Pearson es: r=0.9999978726222876\n"
     ]
    }
   ],
   "source": [
    "# corrcoef es una función de numpy que indica el coeficiente de correlacion de Pearson.\n",
    "r = np.corrcoef(fb[\"FB\"], fb[\"2^n\"])[0, 1];\n",
    "print(\"El coeficiente de correlación de Pearson es: r=\"+str(r))"
   ]
  },
  {
   "cell_type": "code",
   "execution_count": 56,
   "metadata": {},
   "outputs": [
    {
     "name": "stdout",
     "output_type": "stream",
     "text": [
      "    instancia   n     w          FB          BT\n",
      "0           0  21   100     69.5785     87.3582\n",
      "1           1  21   200     59.9486     86.1047\n",
      "2           2  21   300     59.8725     85.9577\n",
      "3           3  21   400     59.8069     85.9906\n",
      "4           4  21   500     60.2177     86.1357\n",
      "5           5  21   600     59.8100     86.0470\n",
      "6           6  21   700     59.8360     86.1593\n",
      "7           7  21   800     59.8083     86.0346\n",
      "8           8  21   900     60.1583     86.1151\n",
      "9           9  21  1000     59.8752     86.0364\n",
      "10         10  22   100    119.5760    172.0320\n",
      "11         11  22   200    119.7740    172.0960\n",
      "12         12  22   300    120.0010    172.1170\n",
      "13         13  22   400    119.7530    172.2310\n",
      "14         14  22   500    119.6340    172.1240\n",
      "15         15  22   600    119.9400    172.2530\n",
      "16         16  22   700    119.6270    172.1720\n",
      "17         17  22   800    119.9530    172.4690\n",
      "18         18  22   900    119.5820    172.4580\n",
      "19         19  22  1000    120.1110    172.4350\n",
      "20         20  23   100    239.5960    345.0210\n",
      "21         21  23   200    239.4660    344.5980\n",
      "22         22  23   300    239.5470    344.6450\n",
      "23         23  23   400    239.3190    345.6240\n",
      "24         24  23   500    239.3430    344.9610\n",
      "25         25  23   600    239.3240    344.5160\n",
      "26         26  23   700    240.6780    344.7560\n",
      "27         27  23   800    239.3320    344.4820\n",
      "28         28  23   900    239.8290    344.8360\n",
      "29         29  23  1000    239.3320    345.1440\n",
      "..        ...  ..   ...         ...         ...\n",
      "70         70  28   100   7701.1100  11022.3000\n",
      "71         71  28   200   7655.5500  11035.9000\n",
      "72         72  28   300   7664.4600  11025.7000\n",
      "73         73  28   400   7761.6100  11021.5000\n",
      "74         74  28   500   7654.8300  11027.0000\n",
      "75         75  28   600   7659.6500  11030.6000\n",
      "76         76  28   700   7674.1100  11021.7000\n",
      "77         77  28   800   7658.7000  11030.6000\n",
      "78         78  28   900   7653.2800  11023.0000\n",
      "79         79  28  1000   7670.0900  11044.2000\n",
      "80         80  29   100  15405.6000  22072.3000\n",
      "81         81  29   200  15350.4000  22086.2000\n",
      "82         82  29   300  15361.0000  22110.8000\n",
      "83         83  29   400  15368.4000  22117.9000\n",
      "84         84  29   500  15342.6000  22069.3000\n",
      "85         85  29   600  15406.9000  22089.6000\n",
      "86         86  29   700  15347.6000  22081.0000\n",
      "87         87  29   800  15353.5000  22067.4000\n",
      "88         88  29   900  15321.3000  22053.6000\n",
      "89         89  29  1000  15322.0000  22135.8000\n",
      "90         90  30   100  30669.4000  44140.3000\n",
      "91         91  30   200  30625.6000  44157.3000\n",
      "92         92  30   300  30695.7000  44163.1000\n",
      "93         93  30   400  30675.8000  44167.2000\n",
      "94         94  30   500  30681.3000  44173.2000\n",
      "95         95  30   600  30650.1000  44101.5000\n",
      "96         96  30   700  30628.9000  44103.8000\n",
      "97         97  30   800  30712.0000  44090.4000\n",
      "98         98  30   900  30627.7000  44121.5000\n",
      "99         99  30  1000  30676.2000  44110.3000\n",
      "\n",
      "[100 rows x 5 columns]\n"
     ]
    }
   ],
   "source": [
    "bt = pd.read_csv(\"complejidadFBBT.csv\")\n",
    "print(bt)"
   ]
  },
  {
   "cell_type": "code",
   "execution_count": 57,
   "metadata": {},
   "outputs": [
    {
     "data": {
      "image/png": "[encoded data removed]",
      "text/plain": [
       "<Figure size 432x288 with 1 Axes>"
      ]
     },
     "metadata": {
      "needs_background": "light"
     },
     "output_type": "display_data"
    }
   ],
   "source": [
    "#Grafico para algoritmo backtracking\n",
    "bt['BT/2^n'] = bt['BT'] / 2**bt['n'];\n",
    "\n",
    "ax1 = sns.lineplot(x=\"instancia\", y=\"BT/2^n\", data=bt);\n",
    "plt.ylim(0.000038,0.000044)\n",
    "plt.ylabel(\"BT(n,w)/2^n\");"
   ]
  },
  {
   "cell_type": "code",
   "execution_count": 58,
   "metadata": {},
   "outputs": [],
   "source": [
    "# Creamos la columna cota que vale 2^n.\n",
    "bt[\"2^n\"] = 2 ** bt[\"n\"]"
   ]
  },
  {
   "cell_type": "code",
   "execution_count": 59,
   "metadata": {},
   "outputs": [
    {
     "name": "stdout",
     "output_type": "stream",
     "text": [
      "El coeficiente de correlación de Pearson es: r=0.9999994490397897\n"
     ]
    }
   ],
   "source": [
    "# corrcoef es una función de numpy que indica el coeficiente de correlacion de Pearson.\n",
    "r = np.corrcoef(bt[\"BT\"], bt[\"2^n\"])[0, 1];\n",
    "print(\"El coeficiente de correlación de Pearson es: r=\"+str(r))"
   ]
  },
  {
   "cell_type": "code",
   "execution_count": null,
   "metadata": {},
   "outputs": [],
   "source": []
  }
 ],
 "metadata": {
  "kernelspec": {
   "display_name": "Python 3",
   "language": "python",
   "name": "python3"
  },
  "language_info": {
   "codemirror_mode": {
    "name": "ipython",
    "version": 3
   },
   "file_extension": ".py",
   "mimetype": "text/x-python",
   "name": "python",
   "nbconvert_exporter": "python",
   "pygments_lexer": "ipython3",
   "version": "3.7.3"
  }
 },
 "nbformat": 4,
 "nbformat_minor": 2
}

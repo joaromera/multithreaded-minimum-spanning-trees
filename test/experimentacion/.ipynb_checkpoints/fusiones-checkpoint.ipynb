{
 "cells": [
  {
   "cell_type": "code",
   "execution_count": 1,
   "metadata": {},
   "outputs": [],
   "source": [
    "import numpy as np\n",
    "import pandas as pd\n",
    "import seaborn as sns\n",
    "import matplotlib.pyplot as plt"
   ]
  },
  {
   "cell_type": "code",
   "execution_count": 2,
   "metadata": {},
   "outputs": [
    {
     "name": "stdout",
     "output_type": "stream",
     "text": [
      "       instancia   n     grafo  threads  fusiones     tiempo\n",
      "0              0   0     arbol        1         0   0.190187\n",
      "1              1   0     arbol        2         1   0.134505\n",
      "2              2   0     arbol        3         7   0.269941\n",
      "3              3   0     arbol        4         3   0.249763\n",
      "4              4   0     arbol        5         8   0.306101\n",
      "5              5   0     arbol        6        11   0.440051\n",
      "6              6   0     arbol        7        10   0.386426\n",
      "7              7   0     arbol        8        15  11.031100\n",
      "8              8   0     arbol        9         7  11.101100\n",
      "9              9   0     arbol       10        13   0.622161\n",
      "10            10   0     arbol       11         5   0.298342\n",
      "11            11   0     arbol       12        13   1.049710\n",
      "12            12   0     arbol       13         3   0.283577\n",
      "13            13   0     arbol       14         0   0.303722\n",
      "14            14   0     arbol       15         2   0.305329\n",
      "15            15   0     arbol       16        11   0.611917\n",
      "16            16   0     arbol       17        10   1.403730\n",
      "17            17   0     arbol       18         6   0.510465\n",
      "18            18   0     arbol       19        11   0.832733\n",
      "19            19   0     arbol       20         0   0.581891\n",
      "20            20   0     arbol       21         0   0.429424\n",
      "21            21   0     arbol       22         8   0.754105\n",
      "22            22   0     arbol       23         9   0.761112\n",
      "23            23   0     arbol       24        12   0.819660\n",
      "24            24   0     arbol       25        10   0.709881\n",
      "25            25   0     arbol       26         8   0.744431\n",
      "26            26   0     arbol       27         6   0.745471\n",
      "27            27   0     arbol       28        10   0.883814\n",
      "28            28   0     arbol       29         7   0.866313\n",
      "29            29   0     arbol       30        12  10.991100\n",
      "...          ...  ..       ...      ...       ...        ...\n",
      "79970      79970  99  completo       11         8   0.393114\n",
      "79971      79971  99  completo       12         8   0.427018\n",
      "79972      79972  99  completo       13         2   0.352831\n",
      "79973      79973  99  completo       14         7   0.506809\n",
      "79974      79974  99  completo       15         8   0.584755\n",
      "79975      79975  99  completo       16         2   0.404324\n",
      "79976      79976  99  completo       17         7   1.555940\n",
      "79977      79977  99  completo       18         2   0.440666\n",
      "79978      79978  99  completo       19         5   0.598733\n",
      "79979      79979  99  completo       20         7  10.570000\n",
      "79980      79980  99  completo       21         8   0.619037\n",
      "79981      79981  99  completo       22        10   0.655924\n",
      "79982      79982  99  completo       23         9   0.708331\n",
      "79983      79983  99  completo       24         2   0.650344\n",
      "79984      79984  99  completo       25         8   0.797709\n",
      "79985      79985  99  completo       26         7   0.733802\n",
      "79986      79986  99  completo       27         8   0.967057\n",
      "79987      79987  99  completo       28         6   0.801688\n",
      "79988      79988  99  completo       29         8  10.169800\n",
      "79989      79989  99  completo       30        10   0.902998\n",
      "79990      79990  99  completo       31        10   0.942002\n",
      "79991      79991  99  completo       32         5   0.952391\n",
      "79992      79992  99  completo       33        12   0.992422\n",
      "79993      79993  99  completo       34        10   1.026720\n",
      "79994      79994  99  completo       35        12   0.999521\n",
      "79995      79995  99  completo       36         8   0.991816\n",
      "79996      79996  99  completo       37         8   1.095120\n",
      "79997      79997  99  completo       38         6   1.098810\n",
      "79998      79998  99  completo       39         4   1.115360\n",
      "79999      79999  99  completo       40        12   1.175480\n",
      "\n",
      "[80000 rows x 6 columns]\n"
     ]
    }
   ],
   "source": [
    "fb = pd.read_csv(\"../../fusiones.csv\")\n",
    "print(fb)"
   ]
  },
  {
   "cell_type": "code",
   "execution_count": 28,
   "metadata": {},
   "outputs": [
    {
     "name": "stdout",
     "output_type": "stream",
     "text": [
      "     n     grafo  threads  fusiones\n",
      "0    1     arbol        1     0.000\n",
      "0    2     arbol        2     1.979\n",
      "0    3     arbol        3     3.454\n",
      "0    4     arbol        4     4.069\n",
      "0    5     arbol        5     4.541\n",
      "0    6     arbol        6     4.304\n",
      "0    7     arbol        7     4.279\n",
      "0    8     arbol        8     4.287\n",
      "0    9     arbol        9     4.171\n",
      "0   10     arbol       10     3.980\n",
      "0   11     arbol       11     4.106\n",
      "0   12     arbol       12     4.179\n",
      "0   13     arbol       13     4.066\n",
      "0   14     arbol       14     4.148\n",
      "0   15     arbol       15     4.026\n",
      "0   16     arbol       16     4.324\n",
      "0   17     arbol       17     4.028\n",
      "0   18     arbol       18     4.098\n",
      "0   19     arbol       19     4.127\n",
      "0   20     arbol       20     4.092\n",
      "0   21     arbol       21     4.171\n",
      "0   22     arbol       22     4.048\n",
      "0   23     arbol       23     4.086\n",
      "0   24     arbol       24     4.125\n",
      "0   25     arbol       25     4.000\n",
      "0   26     arbol       26     4.119\n",
      "0   27     arbol       27     4.137\n",
      "0   28     arbol       28     4.279\n",
      "0   29     arbol       29     4.306\n",
      "0   30     arbol       30     4.411\n",
      "..  ..       ...      ...       ...\n",
      "0   11  completo       11     5.652\n",
      "0   12  completo       12     5.714\n",
      "0   13  completo       13     5.489\n",
      "0   14  completo       14     5.490\n",
      "0   15  completo       15     5.504\n",
      "0   16  completo       16     5.614\n",
      "0   17  completo       17     5.639\n",
      "0   18  completo       18     5.445\n",
      "0   19  completo       19     5.447\n",
      "0   20  completo       20     5.457\n",
      "0   21  completo       21     5.450\n",
      "0   22  completo       22     5.484\n",
      "0   23  completo       23     5.502\n",
      "0   24  completo       24     5.609\n",
      "0   25  completo       25     5.722\n",
      "0   26  completo       26     5.557\n",
      "0   27  completo       27     5.611\n",
      "0   28  completo       28     5.511\n",
      "0   29  completo       29     5.600\n",
      "0   30  completo       30     5.595\n",
      "0   31  completo       31     5.487\n",
      "0   32  completo       32     5.549\n",
      "0   33  completo       33     5.546\n",
      "0   34  completo       34     5.591\n",
      "0   35  completo       35     5.590\n",
      "0   36  completo       36     5.721\n",
      "0   37  completo       37     5.548\n",
      "0   38  completo       38     5.721\n",
      "0   39  completo       39     5.631\n",
      "0   40  completo       40     5.656\n",
      "\n",
      "[80 rows x 4 columns]\n"
     ]
    }
   ],
   "source": [
    "d = {'n': [40], 'grafo': [\"arbol\"], 'threads': [1], 'fusiones': [1]}\n",
    "data = pd.DataFrame(data=d)\n",
    "data = data.drop([0])\n",
    "for k in range(1,41):\n",
    "    data1 = (((fb.loc[fb['threads'] == k]).loc[fb['grafo'] == 'arbol']).loc[:, 'fusiones'])\n",
    "    data2 = {'n': [k], 'grafo': [\"arbol\"], 'threads': [k], 'fusiones': [data1.mean()]}\n",
    "    data = data.append(pd.DataFrame(data=data2), sort=False)\n",
    "        \n",
    "for k in range(1,41):\n",
    "    data1 = (((fb.loc[fb['threads'] == k]).loc[fb['grafo'] == 'completo']).loc[:, 'fusiones'])\n",
    "    data2 = {'n': [k], 'grafo': [\"completo\"], 'threads': [k], 'fusiones': [data1.mean()]}\n",
    "    data = data.append(pd.DataFrame(data=data2), sort=False)\n",
    "print(data)"
   ]
  },
  {
   "cell_type": "code",
   "execution_count": 32,
   "metadata": {},
   "outputs": [
    {
     "data": {
      "image/png": "[encoded data removed]",
      "text/plain": [
       "<Figure size 432x288 with 1 Axes>"
      ]
     },
     "metadata": {
      "needs_background": "light"
     },
     "output_type": "display_data"
    }
   ],
   "source": [
    "#Grafico para comparacion arboles y completos\n",
    "\n",
    "data2 = data.loc[data['grafo'] == 'arbol']\n",
    "ax1 = sns.lineplot(x=\"threads\", y=\"fusiones\", data=data2);\n",
    "\n",
    "data2 = data.loc[data['grafo'] == 'completo']\n",
    "ax1 = sns.lineplot(x=\"threads\", y=\"fusiones\", data=data2);\n",
    "\n",
    "plt.ylabel(\"fusiones\");\n",
    "plt.xlabel(\"threads\");\n",
    "ax1.legend([\"Árboles\", \"Completo\"]);"
   ]
  },
  {
   "cell_type": "code",
   "execution_count": null,
   "metadata": {},
   "outputs": [],
   "source": []
  }
 ],
 "metadata": {
  "kernelspec": {
   "display_name": "Python 3",
   "language": "python",
   "name": "python3"
  },
  "language_info": {
   "codemirror_mode": {
    "name": "ipython",
    "version": 3
   },
   "file_extension": ".py",
   "mimetype": "text/x-python",
   "name": "python",
   "nbconvert_exporter": "python",
   "pygments_lexer": "ipython3",
   "version": "3.7.3"
  }
 },
 "nbformat": 4,
 "nbformat_minor": 2
}
